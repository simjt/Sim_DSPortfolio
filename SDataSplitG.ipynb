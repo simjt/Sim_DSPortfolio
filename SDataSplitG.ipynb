{
 "cells": [
  {
   "cell_type": "markdown",
   "metadata": {},
   "source": [
    "Project - Sentiment Analysis "
   ]
  },
  {
   "cell_type": "markdown",
   "metadata": {},
   "source": [
    "PART 1 - DATA SPLITTING"
   ]
  },
  {
   "cell_type": "code",
   "execution_count": 1,
   "metadata": {},
   "outputs": [],
   "source": [
    "'''Import Libraries'''\n",
    "import numpy as np\n",
    "import pandas as pd "
   ]
  },
  {
   "cell_type": "markdown",
   "metadata": {},
   "source": [
    "Load Dataset"
   ]
  },
  {
   "cell_type": "code",
   "execution_count": 2,
   "metadata": {},
   "outputs": [
    {
     "data": {
      "text/html": [
       "<div>\n",
       "<style scoped>\n",
       "    .dataframe tbody tr th:only-of-type {\n",
       "        vertical-align: middle;\n",
       "    }\n",
       "\n",
       "    .dataframe tbody tr th {\n",
       "        vertical-align: top;\n",
       "    }\n",
       "\n",
       "    .dataframe thead th {\n",
       "        text-align: right;\n",
       "    }\n",
       "</style>\n",
       "<table border=\"1\" class=\"dataframe\">\n",
       "  <thead>\n",
       "    <tr style=\"text-align: right;\">\n",
       "      <th></th>\n",
       "      <th>Sentiment</th>\n",
       "      <th>Review</th>\n",
       "    </tr>\n",
       "  </thead>\n",
       "  <tbody>\n",
       "    <tr>\n",
       "      <th>0</th>\n",
       "      <td>0</td>\n",
       "      <td>@switchfoot http://twitpic.com/2y1zl - Awww, t...</td>\n",
       "    </tr>\n",
       "    <tr>\n",
       "      <th>1</th>\n",
       "      <td>0</td>\n",
       "      <td>is upset that he can't update his Facebook by ...</td>\n",
       "    </tr>\n",
       "    <tr>\n",
       "      <th>2</th>\n",
       "      <td>0</td>\n",
       "      <td>@Kenichan I dived many times for the ball. Man...</td>\n",
       "    </tr>\n",
       "    <tr>\n",
       "      <th>3</th>\n",
       "      <td>0</td>\n",
       "      <td>my whole body feels itchy and like its on fire</td>\n",
       "    </tr>\n",
       "    <tr>\n",
       "      <th>4</th>\n",
       "      <td>0</td>\n",
       "      <td>@nationwideclass no, it's not behaving at all....</td>\n",
       "    </tr>\n",
       "  </tbody>\n",
       "</table>\n",
       "</div>"
      ],
      "text/plain": [
       "   Sentiment                                             Review\n",
       "0          0  @switchfoot http://twitpic.com/2y1zl - Awww, t...\n",
       "1          0  is upset that he can't update his Facebook by ...\n",
       "2          0  @Kenichan I dived many times for the ball. Man...\n",
       "3          0    my whole body feels itchy and like its on fire \n",
       "4          0  @nationwideclass no, it's not behaving at all...."
      ]
     },
     "execution_count": 2,
     "metadata": {},
     "output_type": "execute_result"
    }
   ],
   "source": [
    "'''Load the dataset with encoding ISO-8859-1'''\n",
    "\n",
    "#Add column names to the dataset\n",
    "colnames=['Sentiment', 'Review'] \n",
    "df=pd.read_csv(r'C:\\Users\\sjt20\\data.csv', \\\n",
    "               names=colnames, header=None, encoding='ISO-8859-1')\n",
    "df.head()"
   ]
  },
  {
   "cell_type": "code",
   "execution_count": 3,
   "metadata": {},
   "outputs": [
    {
     "data": {
      "text/plain": [
       "Sentiment    False\n",
       "Review       False\n",
       "dtype: bool"
      ]
     },
     "execution_count": 3,
     "metadata": {},
     "output_type": "execute_result"
    }
   ],
   "source": [
    "#Check if there are missing values\n",
    "df.isna().any()"
   ]
  },
  {
   "cell_type": "code",
   "execution_count": 4,
   "metadata": {},
   "outputs": [
    {
     "data": {
      "text/plain": [
       "0    800000\n",
       "1    248576\n",
       "Name: Sentiment, dtype: int64"
      ]
     },
     "execution_count": 4,
     "metadata": {},
     "output_type": "execute_result"
    }
   ],
   "source": [
    "#Change sentiment label for positive to 1\n",
    "df['Sentiment'] = np.where((df.Sentiment == 4),1,df.Sentiment)\n",
    "#Check the distribution of positive and negative sentiment\n",
    "df.Sentiment.value_counts() "
   ]
  },
  {
   "cell_type": "markdown",
   "metadata": {},
   "source": [
    "SPLIT DATA INTO LABELLED AND UNLABELLED"
   ]
  },
  {
   "cell_type": "code",
   "execution_count": 5,
   "metadata": {},
   "outputs": [],
   "source": [
    "#Split half of the data set for labelled data and the rest as unlabelled data\n",
    "np.random.seed(42)  \n",
    "\n",
    "#Half of the data is set as labelled and the rest is set to unlabelled \n",
    "random_unlabelled_points = (np.random.rand(len(df.Sentiment)) <= 0.50)\n",
    "\n",
    "#Get the original data labels\n",
    "labels = np.copy(df.Sentiment)       \n",
    "Y_real_unlabelled = labels[random_unlabelled_points]      #the real labels of the data set as unlabelled\n",
    "#assign these randomly chosen points to have a label of -1 (for unlabelled data)\n",
    "labels[random_unlabelled_points] = -1\n",
    "# labels  contain a mix of labelled and unlabelled data"
   ]
  },
  {
   "cell_type": "code",
   "execution_count": 6,
   "metadata": {},
   "outputs": [],
   "source": [
    "df_real_unlabelled = pd.DataFrame(Y_real_unlabelled, columns = ['Sentiment'])\n",
    "#save the real labels of the unlabelled data to a csv file for later access\n",
    "df_real_unlabelled.to_csv('real_unlabelled.csv')"
   ]
  },
  {
   "cell_type": "markdown",
   "metadata": {},
   "source": [
    "SAVE LABELLED DATA IN labelled.csv AND UNLABELLED DATA IN unlabelled.csv"
   ]
  },
  {
   "cell_type": "code",
   "execution_count": 7,
   "metadata": {},
   "outputs": [
    {
     "name": "stdout",
     "output_type": "stream",
     "text": [
      "labelled.csv and unlabelled.csv are created.\n"
     ]
    }
   ],
   "source": [
    "#create dataframe with only reviews\n",
    "df_reviews =  df.drop('Sentiment', axis =1)\n",
    "\n",
    "#Convert labels array to dataframe\n",
    "df_label = pd.DataFrame(labels, columns = ['Sentiment'])\n",
    "#concatenate review and labels\n",
    "df_mixedlabels = pd.concat([ df_label, df_reviews], axis=1)\n",
    "\n",
    "#Save the labelled data and unlabelled data on two separate files\n",
    "\n",
    "#separate the labelled and unlabelled data to two dataframes\n",
    "df_labelled = df_mixedlabels.loc[df_mixedlabels['Sentiment'] != -1]       #labelled\n",
    "df_unlabelled = df_mixedlabels.loc[df_mixedlabels['Sentiment'] == -1]     #unlabelled\n",
    "\n",
    "#save the data to csv files\n",
    "df_labelled.to_csv('labelled.csv')\n",
    "df_unlabelled.to_csv('unlabelled.csv')\n",
    "\n",
    "print(\"labelled.csv and unlabelled.csv are created.\")"
   ]
  }
 ],
 "metadata": {
  "kernelspec": {
   "display_name": "Python 3",
   "language": "python",
   "name": "python3"
  },
  "language_info": {
   "codemirror_mode": {
    "name": "ipython",
    "version": 3
   },
   "file_extension": ".py",
   "mimetype": "text/x-python",
   "name": "python",
   "nbconvert_exporter": "python",
   "pygments_lexer": "ipython3",
   "version": "3.8.5"
  }
 },
 "nbformat": 4,
 "nbformat_minor": 4
}
