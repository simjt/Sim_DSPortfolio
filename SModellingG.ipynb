{
 "cells": [
  {
   "cell_type": "markdown",
   "metadata": {},
   "source": [
    " Project - Sentiment Analysis "
   ]
  },
  {
   "cell_type": "markdown",
   "metadata": {},
   "source": [
    "PART 2 - MODELLING"
   ]
  },
  {
   "cell_type": "code",
   "execution_count": 1,
   "metadata": {},
   "outputs": [],
   "source": [
    "'''Import Libraries'''\n",
    "import numpy as np\n",
    "import pandas as pd \n",
    "from numpy import concatenate\n",
    "import matplotlib.pyplot as plt\n",
    "%matplotlib inline\n",
    "\n",
    "#Libraries for machine learning\n",
    "from sklearn import metrics\n",
    "from sklearn.semi_supervised import LabelPropagation\n",
    "from sklearn.semi_supervised import SelfTrainingClassifier\n",
    "from sklearn.metrics import accuracy_score,precision_score, recall_score,f1_score\n",
    "from sklearn.model_selection import train_test_split            \n",
    "from sklearn.metrics import confusion_matrix, ConfusionMatrixDisplay\n",
    "from sklearn.metrics import classification_report\n",
    "from sklearn.linear_model import LogisticRegression\n",
    "from sklearn.decomposition import TruncatedSVD\n",
    "import warnings\n",
    "warnings.filterwarnings('ignore')\n",
    "pd.options.mode.chained_assignment = None  \n"
   ]
  },
  {
   "cell_type": "code",
   "execution_count": 2,
   "metadata": {},
   "outputs": [],
   "source": [
    "'''Import Libraries for Text Analytics'''\n",
    "import nltk\n",
    "from nltk.tokenize import word_tokenize\n",
    "from nltk.corpus import stopwords\n",
    "from nltk.stem import WordNetLemmatizer\n",
    "import string\n",
    "\n",
    "import re\n",
    "import neattext as nt\n",
    "import neattext.functions as nfx\n",
    "\n",
    "from sklearn import preprocessing\n",
    "from sklearn.feature_extraction.text import TfidfVectorizer\n",
    "import spacy"
   ]
  },
  {
   "cell_type": "markdown",
   "metadata": {},
   "source": [
    "Load and prepare data for Modelling"
   ]
  },
  {
   "cell_type": "code",
   "execution_count": 3,
   "metadata": {},
   "outputs": [],
   "source": [
    "'''Load the labelled dataset'''\n",
    "\n",
    "data_labelled=pd.read_csv('./labelled.csv')\n",
    "#create dataframe with only reviews and sentiment \n",
    "df_labelled =  data_labelled.drop(['Unnamed: 0'], axis =1)"
   ]
  },
  {
   "cell_type": "markdown",
   "metadata": {},
   "source": [
    "Data Preprocessing"
   ]
  },
  {
   "cell_type": "markdown",
   "metadata": {},
   "source": [
    "Expand Contractions"
   ]
  },
  {
   "cell_type": "code",
   "execution_count": 4,
   "metadata": {},
   "outputs": [],
   "source": [
    "# create a dictionary with expanded contractions\n",
    "contractions_dict = { \n",
    "\"ain't\": \"has not\", \"aren't\": \"are not\", \"can't\": \"cannot\", \"can't've\": \"cannot have\", \"'cause\": \"because\", \"could've\": \"could have\",\n",
    "\"couldn't\": \"could not\", \"couldn't've\": \"could not have\", \"didn't\": \"did not\", \"doesn't\": \"does not\", \"don't\": \"do not\",\n",
    "\"hadn't\": \"had not\", \"hadn't've\": \"had not have\", \"hasn't\": \"has not\", \"haven't\": \"have not\", \"he'd\": \"he would\",\n",
    "\"he'd've\": \"he would have\", \"he'll\": \"he will\", \"he'll've\": \"he will have\", \"he's\": \"he is\", \"how'd\": \"how did\",\n",
    "\"how'd'y\": \"how do you\", \"how'll\": \"how will\", \"how's\": \"how is\", \"I'd\": \"I would\", \"I'd've\": \"I would have\",\n",
    "\"I'll\": \"I will\", \"I'll've\": \"I will have\", \"I'm\": \"I am\", \"I've\": \"I have\", \"isn't\": \"is not\",\n",
    "\"it'd\": \"it would\", \"it'd've\": \"it would have\", \"it'll\": \"it will\", \"it'll've\": \"it will have\",\n",
    "\"it's\": \"it is\", \"let's\": \"let us\", \"ma'am\": \"madam\",\"mayn't\": \"may not\",\"might've\": \"might have\",\n",
    "\"mightn't\": \"might not\", \"mightn't've\": \"might not have\", \"must've\": \"must have\",\n",
    "\"mustn't\": \"must not\", \"mustn't've\": \"must not have\", \"needn't\": \"need not\", \"needn't've\": \"need not have\",\n",
    "\"o'clock\": \"of the clock\",\"oughtn't\": \"ought not\",\"oughtn't've\": \"ought not have\",\n",
    "\"shan't\": \"shall not\",\"sha'n't\": \"shall not\",\"shan't've\": \"shall not have\",\"she'd\": \"she would\",\n",
    "\"she'd've\": \"she would have\",\"she'll\": \"she will\",\"she'll've\": \"she will have\",\"she's\": \"she is\",\n",
    "\"should've\": \"should have\",\"shouldn't\": \"should not\",\"shouldn't've\": \"should not have\",\"so've\": \"so have\",\n",
    "\"so's\": \"so is\",\"that'd\": \"that would\",\"that'd've\": \"that would have\",\"that's\": \"that is\",\"there'd\": \"there would\",\n",
    "\"there'd've\": \"there would have\",\"there's\": \"there is\",\"they'd\": \"they would\",\"they'd've\": \"they would have\",\n",
    "\"they'll\": \"they will\",\"they'll've\": \"they will have\",\"they're\": \"they are\",\"they've\": \"they have\",\n",
    "\"to've\": \"to have\",\"wasn't\": \"was not\",\"we'd\": \"we would\",\"we'd've\": \"we would have\",\"we'll\": \"we will\",\n",
    "\"we'll've\": \"we will have\",\"we're\": \"we are\",\"we've\": \"we have\",\"weren't\": \"were not\",\n",
    "\"what'll\": \"what shall / what will\",\"what'll've\": \"what will have\",\"what're\": \"what are\",\n",
    "\"what's\": \"what is\",\"what've\": \"what have\",\"when's\": \"when is\",\"when've\": \"when have\",\"where'd\": \"where did\",\n",
    "\"where's\": \"where is\",\"where've\": \"where have\",\"who'll\": \"who will\",\"who'll've\": \"who will have\",\"who's\": \"who is\",\n",
    "\"who've\": \"who have\",\"why's\": \"why is\",\"why've\": \"why have\",\"will've\": \"will have\",\"won't\": \"will not\",\n",
    "\"won't've\": \"will not have\",\"would've\": \"would have\",\"wouldn't\": \"would not\",\"wouldn't've\": \"would not have\",\n",
    "\"y'all\": \"you all\",\"y'all'd\": \"you all would\",\"y'all'd've\": \"you all would have\",\"y'all're\": \"you all are\",\n",
    "\"y'all've\": \"you all have\",\"you'd\": \"you would\",\"you'd've\": \"you would have\",\"you'll\": \"you will\",\n",
    "\"you'll've\": \"you will have\",\"you're\": \"you are\",\"you've\": \"you have\"\n",
    "}\n",
    "\n",
    "contractions_re = re.compile('(%s)' % '|'.join(contractions_dict.keys()))\n",
    "\n",
    "def expand_contractions(texts, contractions_dict=contractions_dict):\n",
    "    '''Function to expand contractions\n",
    "    Args: texts: text to expand contractions\n",
    "    Returns  text with expanded contractions\n",
    "    '''\n",
    "    def replace(match):\n",
    "        return contractions_dict[match.group(0)]\n",
    "    return contractions_re.sub(replace, texts)"
   ]
  },
  {
   "cell_type": "markdown",
   "metadata": {},
   "source": [
    "Stopwords Removal"
   ]
  },
  {
   "cell_type": "code",
   "execution_count": 5,
   "metadata": {},
   "outputs": [],
   "source": [
    "'''Get stopwords and add custom stopwords to the list'''\n",
    "\n",
    "#extract the stopwords from the review\n",
    "lst_of_stopwords = df_labelled['Review'].astype('U').apply(lambda x:nt.TextExtractor(x).extract_stopwords())\n",
    "#convert each list of lists to a single list\n",
    "flat_list_stopwords = [item for sublist in lst_of_stopwords for item in sublist]\n",
    "\n",
    "#create custom stopword list\n",
    "custom_stopwords=['lol','hmm','ya','yay','awol','asap','ur','oh','na','ugh','wah','yucky','omg','im','id','aw','ive','lmao'\\\n",
    "                 'ye','wow','hey','urgh']\n",
    "#join the stopword lists\n",
    "all_stopwords_list=flat_list_stopwords  + custom_stopwords\n",
    "set_of_stopwords=set(all_stopwords_list)\n",
    "\n",
    "#remove negation words from stop word list                                                   \n",
    "not_stopwords={'not','no','nobody','none','never','against','neither','nor','nothing','cannot'}\n",
    "new_set_stopwords = set_of_stopwords - not_stopwords\n",
    "\n",
    "\n",
    "def remove_stopwords(text):     \n",
    "    '''Function to remove stopwords\n",
    "    Args: texts: text to remove stopwords\n",
    "    Returns  text with  stopwords removed\n",
    "    '''\n",
    "    new_text= \" \".join([word for word in str(text).split() if word not in new_set_stopwords])\n",
    "    return new_text"
   ]
  },
  {
   "cell_type": "code",
   "execution_count": 6,
   "metadata": {},
   "outputs": [],
   "source": [
    "def clean_text(text):\n",
    "    '''Function to remove link,user and special characters\n",
    "    Args: texts: text to clean\n",
    "    Returns  text with special characters removed\n",
    "    '''\n",
    "    removal_string = \"@\\S+|https?:\\S+|http?:\\S|[^A-Za-z0-9]+\"\n",
    "    text = re.sub(removal_string, ' ', str(text).lower()).strip()\n",
    "    tokens = []\n",
    "    #tokenize and clean text\n",
    "    for token in text.split():\n",
    "        if token not in new_set_stopwords:\n",
    "            tokens.append(token)\n",
    "    return \" \".join(tokens)"
   ]
  },
  {
   "cell_type": "code",
   "execution_count": 7,
   "metadata": {},
   "outputs": [],
   "source": [
    "#extract  meaningful words\n",
    "words = set(nltk.corpus.words.words())\n",
    "def clean_sent(sent):\n",
    "    '''Function to remove meaningless and alphanumeric characters\n",
    "    Args: sent: text to clean\n",
    "    Returns  text with alphanumeric characters removed\n",
    "    '''\n",
    "    #tokenize and clean text\n",
    "    return \" \".join(w for w in nltk.word_tokenize(sent) \\\n",
    "         if w.lower() in words or not w.isalpha())"
   ]
  },
  {
   "cell_type": "markdown",
   "metadata": {},
   "source": [
    "Normalization - Lemmatization"
   ]
  },
  {
   "cell_type": "code",
   "execution_count": 8,
   "metadata": {},
   "outputs": [],
   "source": [
    "def lemmatize_text(words):\n",
    "    '''Function for lemmatizing\n",
    "     Args: words: text to lemmatize\n",
    "     Returns lemmatized text\n",
    "     '''\n",
    "    wordnet_lemmatizer = WordNetLemmatizer()\n",
    "    lemmatized_sentence = []\n",
    "    tokens = word_tokenize(words)\n",
    "    #tokenize and lemmatize text\n",
    "    for token in tokens:\n",
    "        lemmatized_word = wordnet_lemmatizer.lemmatize(token)\n",
    "        lemmatized_sentence.append(lemmatized_word)\n",
    "    return \" \".join(lemmatized_sentence)"
   ]
  },
  {
   "cell_type": "code",
   "execution_count": 9,
   "metadata": {},
   "outputs": [
    {
     "name": "stdout",
     "output_type": "stream",
     "text": [
      "Wall time: 1min 35s\n"
     ]
    }
   ],
   "source": [
    "%%time\n",
    "#Call the text preprocessing functions for preprocessing the reviews in the labelled dataset\n",
    "#Expand contractions in the text\n",
    "df_labelled.loc[:, ('Review_clean')]  = df_labelled['Review'].astype('U').apply(lambda text: expand_contractions(text))\n",
    "\n",
    "#Remove stopwords from the text\n",
    "df_labelled.loc[:, ('Review_clean')]  = df_labelled['Review_clean'].astype('U').apply(lambda text: remove_stopwords(text))\n",
    "\n",
    "#Remove unwanted characters from the text\n",
    "df_labelled.loc[:, ('Review_clean')] = df_labelled['Review_clean'].astype('U').apply(lambda text: clean_text(text))\n",
    "\n",
    "#Extract meaningful words from the text\n",
    "df_labelled.loc[:, ('Review_clean')] = df_labelled['Review_clean'].astype('U').apply(lambda text: clean_sent(text))\n",
    "\n",
    "#Lemmatize the text\n",
    "df_labelled.loc[:, ('Review_clean')] = df_labelled['Review_clean'].astype('U').apply(lambda text: lemmatize_text(text))"
   ]
  },
  {
   "cell_type": "markdown",
   "metadata": {},
   "source": [
    "Tokenization and Vectorization"
   ]
  },
  {
   "cell_type": "code",
   "execution_count": 10,
   "metadata": {},
   "outputs": [],
   "source": [
    "def tokenizer_text(text):\n",
    "    '''Function for tokenizing text'''\n",
    "    tokens = word_tokenize(text)\n",
    "    return tokens"
   ]
  },
  {
   "cell_type": "code",
   "execution_count": 11,
   "metadata": {},
   "outputs": [],
   "source": [
    "# Vectorization with TF-IDF for feature representation (Labelled data)\n",
    "\n",
    "tfidf_vectorizer=TfidfVectorizer(tokenizer = tokenizer_text, min_df = 10, max_df=0.75)       #use_idf=True  , minimum occurence of terms in 10 documents \n",
    "tfidf_vectorizer.fit_transform(df_labelled['Review_clean'].values)\n",
    "\n",
    "features_l=tfidf_vectorizer.transform(df_labelled['Review_clean'].values)\n",
    "Y_labelled = np.copy(df_labelled.Sentiment)"
   ]
  },
  {
   "cell_type": "markdown",
   "metadata": {},
   "source": [
    "Split Data to train set and test set"
   ]
  },
  {
   "cell_type": "code",
   "execution_count": 12,
   "metadata": {},
   "outputs": [],
   "source": [
    "# Train-test split (30% test) - with vectorized features (labelled data)\n",
    "X_train, X_test, y_train, y_test = train_test_split(\n",
    "    features_l, np.array(Y_labelled) , \n",
    "    test_size=0.3, \n",
    "    random_state=1)"
   ]
  },
  {
   "cell_type": "markdown",
   "metadata": {},
   "source": [
    "MODELLING"
   ]
  },
  {
   "cell_type": "markdown",
   "metadata": {},
   "source": [
    "a. The base supervised model"
   ]
  },
  {
   "cell_type": "code",
   "execution_count": 13,
   "metadata": {},
   "outputs": [
    {
     "name": "stdout",
     "output_type": "stream",
     "text": [
      "classification_report for Supervised Model\n",
      "\n",
      "              precision    recall  f1-score   support\n",
      "\n",
      "    Negative       0.84      0.95      0.89    120280\n",
      "    Positive       0.71      0.41      0.52     37131\n",
      "\n",
      "    accuracy                           0.82    157411\n",
      "   macro avg       0.77      0.68      0.71    157411\n",
      "weighted avg       0.81      0.82      0.80    157411\n",
      "\n",
      "confusion_matrix \n",
      "\n",
      "[[114029   6251]\n",
      " [ 21801  15330]]\n",
      "\n",
      "Performance on test set:\n",
      "\n",
      "Logistic Regression Accuracy: 0.82179136146775\n",
      "Logistic Regression F1-Score: 0.8036019567019012\n",
      "Wall time: 2 s\n"
     ]
    }
   ],
   "source": [
    "%%time\n",
    "'''Create a supervised model with Logistic Regression'''\n",
    "\n",
    "#max_iter = 1000 iterations for the liblinear solver to converge\n",
    "\n",
    "clf_LR = LogisticRegression(max_iter=1000,solver='liblinear')\n",
    "clf_LR.fit(X_train,y_train)\n",
    "y_test_pred=clf_LR.predict(X_test)\n",
    "\n",
    "#Calculate performance on the test data\n",
    "print(\"classification_report for Supervised Model\\n\")\n",
    "print(classification_report(y_test, y_test_pred, target_names=['Negative', 'Positive']))\n",
    "print(\"confusion_matrix \\n\")\n",
    "print(confusion_matrix(y_test, y_test_pred, labels=[0, 1]))\n",
    "\n",
    "#calculate F1 score, accuracy\n",
    "f1_lr = f1_score(y_test, y_test_pred, average='weighted')\n",
    "print(\"\\nPerformance on test set:\")\n",
    "print(\"\\nLogistic Regression Accuracy:\",metrics.accuracy_score(y_test, y_test_pred))  # compute accuracy of the model\n",
    "print(\"Logistic Regression F1-Score:\",f1_lr)  \n"
   ]
  },
  {
   "cell_type": "markdown",
   "metadata": {},
   "source": [
    "b. The semi-supervised model"
   ]
  },
  {
   "cell_type": "code",
   "execution_count": 14,
   "metadata": {},
   "outputs": [],
   "source": [
    "#Get data from the unlabelled dataset\n",
    "'''Load the dataset'''\n",
    "\n",
    "data_unlabelled=pd.read_csv('./unlabelled.csv')\n",
    "data_unlabelled =  data_unlabelled.drop(['Unnamed: 0'], axis =1)"
   ]
  },
  {
   "cell_type": "markdown",
   "metadata": {},
   "source": [
    "Text Preprocessing for unlabelled dataset"
   ]
  },
  {
   "cell_type": "code",
   "execution_count": 15,
   "metadata": {},
   "outputs": [
    {
     "name": "stdout",
     "output_type": "stream",
     "text": [
      "Wall time: 1min 34s\n"
     ]
    }
   ],
   "source": [
    "%%time\n",
    "#Call the text preprocessing functions for preprocessing the reviews in the unlabelled dataset\n",
    "\n",
    "#Expand contractions in the text\n",
    "data_unlabelled.loc[:, ('Review_clean')]  = data_unlabelled['Review'].astype('U').apply(lambda text: expand_contractions(text))\n",
    "\n",
    "#Remove stopwords from the text\n",
    "data_unlabelled.loc[:, ('Review_clean')]  = data_unlabelled['Review_clean'].astype('U').apply(lambda text: remove_stopwords(text))\n",
    "\n",
    "#Remove unwanted characters from the text\n",
    "data_unlabelled.loc[:, ('Review_clean')] = data_unlabelled['Review_clean'].astype('U').apply(lambda text: clean_text(text))\n",
    "\n",
    "#Extract meaningful words from the text\n",
    "data_unlabelled.loc[:, ('Review_clean')] = data_unlabelled['Review_clean'].astype('U').apply(lambda text: clean_sent(text))\n",
    "\n",
    "#Lemmatize the text\n",
    "data_unlabelled.loc[:, ('Review_clean')] = data_unlabelled['Review_clean'].astype('U').apply(lambda text: lemmatize_text(text))"
   ]
  },
  {
   "cell_type": "code",
   "execution_count": 16,
   "metadata": {},
   "outputs": [],
   "source": [
    "#Vectorize the text with TFIDF for building model - unlabelled data\n",
    "\n",
    "tf=TfidfVectorizer(max_features=10,tokenizer = tokenizer_text, min_df = 10, max_df=0.75) #minimum occurence of terms in 10 documents \n",
    "text_tf= tf.fit_transform(data_unlabelled['Review_clean'].values)\n",
    "#transform to dense\n",
    "features_dense =  text_tf.toarray()\n",
    "features_dense=features_dense.astype(dtype=np.int8)"
   ]
  },
  {
   "cell_type": "code",
   "execution_count": 17,
   "metadata": {},
   "outputs": [],
   "source": [
    "#reduce dimensionality with TruncatedSVD for the labelled features\n",
    "tsvd = TruncatedSVD(n_components=8)\n",
    "X_sparse_tsvd = tsvd.fit(features_l).transform(features_l)\n",
    "X_data=X_sparse_tsvd[:52000]        #get around 10% of labelled features as in unlabelled set\n",
    "Y_label=Y_labelled[:52000]\n",
    "\n",
    "#reduce dimensionality with TruncatedSVD for the unlabelled features\n",
    "tsvd_ul = TruncatedSVD(n_components=8)\n",
    "X_sparse_tsvd_ul = tsvd_ul.fit(features_dense).transform(features_dense)\n",
    "X_data_ul=X_sparse_tsvd_ul[:52000]        #get same number of features as in unlabelled set - for reducing computation time\n",
    "\n",
    "#Prepare Data for Label Propagation\n",
    "unlabelled_points = np.copy(data_unlabelled.Sentiment)            #Get the sentiment label\n",
    "#combine the labelled and unlabelled data\n",
    "X_mixed = concatenate((X_data, X_data_ul))\n",
    "y_mixed = concatenate((Y_label, unlabelled_points[:52000]))\n",
    "X_mixed=X_mixed.astype(dtype=np.int8)"
   ]
  },
  {
   "cell_type": "code",
   "execution_count": 18,
   "metadata": {},
   "outputs": [],
   "source": [
    "'''Load the real labels of the unlabelled dataset'''\n",
    "\n",
    "df_real_unlabelled=pd.read_csv('./real_unlabelled.csv')\n",
    "df_real_unlabelled =  df_real_unlabelled.drop(['Unnamed: 0'], axis =1)\n",
    "Y_real_unlabelled = df_real_unlabelled['Sentiment'].to_numpy()       #convert to array of labels"
   ]
  },
  {
   "cell_type": "markdown",
   "metadata": {},
   "source": [
    "Label Propagation"
   ]
  },
  {
   "cell_type": "code",
   "execution_count": 19,
   "metadata": {},
   "outputs": [
    {
     "name": "stdout",
     "output_type": "stream",
     "text": [
      "Semi-supervised model with label propagation is created.\n",
      "Wall time: 4min 22s\n"
     ]
    }
   ],
   "source": [
    "%%time\n",
    "\n",
    "'''Build the Semi-supervised model with label propagation'''\n",
    "\n",
    "# Propagate labels onto unlabeled data using the labeled data \n",
    "label_prop_model = LabelPropagation(kernel ='knn')       \n",
    "label_prop_model.fit(X_mixed, y_mixed)          #Fit on 52000 unlabelled points\n",
    "\n",
    "# predict the labels for the unlabeled datapoints\n",
    "Y_pred_unlabelled = label_prop_model.predict(X_mixed) \n",
    "unlabelled_points = np.copy(data_unlabelled.Sentiment)            #Get the sentiment label\n",
    "Y_pred_unlabelled=Y_pred_unlabelled[unlabelled_points]      #predict on all the unlabelled points  \n",
    "\n",
    "print(\"Semi-supervised model with label propagation is created.\")"
   ]
  },
  {
   "cell_type": "markdown",
   "metadata": {},
   "source": [
    "c. The semi-supervised model based on the selected supervised model (LogisticRegression)"
   ]
  },
  {
   "cell_type": "code",
   "execution_count": 20,
   "metadata": {},
   "outputs": [
    {
     "name": "stdout",
     "output_type": "stream",
     "text": [
      "Semi-supervised model with SelfTrainingClassifier (base estimator:Logisitic Regression) is created.\n",
      "Wall time: 5.66 s\n"
     ]
    }
   ],
   "source": [
    "%%time\n",
    "'''Self Training Classifier with Logistic Regression as base estimator'''\n",
    "\n",
    "# Initialise LogisticRegression model\n",
    "LR = LogisticRegression()\n",
    "\n",
    "# Input this initial LogisticRegression model into the self-training classifier for \n",
    "#building a semisupervised model based on LogisticRegression\n",
    "self_training_model = SelfTrainingClassifier(LR)\n",
    "\n",
    "#reduce dimensionality with TruncatedSVD for the labelled features\n",
    "tsvd = TruncatedSVD(n_components=10)\n",
    "X_sparse_tsvd = tsvd.fit(features_l).transform(features_l)\n",
    "\n",
    "#combine the labelled and unlabelled data\n",
    "X_mixed_Self = concatenate((X_sparse_tsvd, features_dense))\n",
    "y_mixed_Self = concatenate((Y_labelled, unlabelled_points))\n",
    "X_mixed_Self=X_mixed_Self.astype(dtype=np.int8)\n",
    "\n",
    "# Train the model with the self-training classifier on the labelled data in the combined data \n",
    "self_training_model.fit(X_mixed_Self, y_mixed_Self)\n",
    "\n",
    "print(\"Semi-supervised model with SelfTrainingClassifier (base estimator:Logisitic Regression) is created.\")"
   ]
  },
  {
   "cell_type": "markdown",
   "metadata": {},
   "source": [
    "d. Compute the performance of the models on unlabelled data set and plot the performance scores for comparison"
   ]
  },
  {
   "cell_type": "markdown",
   "metadata": {},
   "source": [
    "i) performance of supervised Logistic Regression model on unlabelled data"
   ]
  },
  {
   "cell_type": "code",
   "execution_count": 21,
   "metadata": {},
   "outputs": [
    {
     "name": "stdout",
     "output_type": "stream",
     "text": [
      "Performance of supervised Logistic Regression model on unlabelled data:\n",
      "\n",
      "              precision    recall  f1-score   support\n",
      "\n",
      "    Negative       0.77      0.88      0.82    399913\n",
      "    Positive       0.29      0.16      0.21    123960\n",
      "\n",
      "    accuracy                           0.71    523873\n",
      "   macro avg       0.53      0.52      0.51    523873\n",
      "weighted avg       0.66      0.71      0.68    523873\n",
      "\n",
      "confusion_matrix \n",
      "\n",
      "[[350178  49735]\n",
      " [103733  20227]]\n",
      "\n",
      "\n",
      "Logistic Regression Accuracy:    0.7071\n",
      "Logistic Regression F1-Score:    0.6755\n",
      "Logistic Regression Precision:   0.6573\n",
      "Logistic Regression Recall:      0.7071\n"
     ]
    }
   ],
   "source": [
    "'''Predict the unlabelled data with Logistic Regression (Supervised Model) and evaluate'''\n",
    "\n",
    "#Get unlabelled features for prediction\n",
    "# Vectorization with TF-IDF for feature representation\n",
    "\n",
    "features_unlabelled = tfidf_vectorizer.fit_transform(data_unlabelled['Review_clean'].values)\n",
    "pr_features_unlabelled = features_unlabelled[:,:8647]    #for fitting to the logistic regression model\n",
    "\n",
    "#Predict on unlabelled data with Logistic Regression classifier\n",
    "y_test_unlabelled_pred=clf_LR.predict(pr_features_unlabelled)\n",
    "\n",
    "#Performance Metrics\n",
    "Acc_Supervised = round(metrics.accuracy_score(Y_real_unlabelled, y_test_unlabelled_pred),4)  # compute accuracy of the model\n",
    "f1_Supervised = round(f1_score(Y_real_unlabelled, y_test_unlabelled_pred,average=\"weighted\"),4) # compute f1-score of the model\n",
    "recall_Supervised = round(recall_score(Y_real_unlabelled,y_test_unlabelled_pred,average=\"weighted\"),4)  # compute recall of the model\n",
    "precision_Supervised = round(precision_score(Y_real_unlabelled,y_test_unlabelled_pred,average=\"weighted\"),4) # compute precision score of the model\n",
    "\n",
    "print(\"Performance of supervised Logistic Regression model on unlabelled data:\\n\")\n",
    "print(classification_report(Y_real_unlabelled, y_test_unlabelled_pred, target_names=['Negative', 'Positive']))\n",
    "print(\"confusion_matrix \\n\")\n",
    "print(confusion_matrix(Y_real_unlabelled, y_test_unlabelled_pred, labels=[0, 1]))\n",
    "\n",
    "print(\"\\n\")\n",
    "print(\"Logistic Regression Accuracy:   \", Acc_Supervised) \n",
    "print(\"Logistic Regression F1-Score:   \",f1_Supervised)  \n",
    "print(\"Logistic Regression Precision:  \", precision_Supervised) \n",
    "print(\"Logistic Regression Recall:     \",recall_Supervised)  "
   ]
  },
  {
   "cell_type": "code",
   "execution_count": 22,
   "metadata": {},
   "outputs": [
    {
     "data": {
      "text/plain": [
       "<sklearn.metrics._plot.confusion_matrix.ConfusionMatrixDisplay at 0x17ece8d2970>"
      ]
     },
     "execution_count": 22,
     "metadata": {},
     "output_type": "execute_result"
    },
    {
     "data": {
      "image/png": "[encoded data removed]",
      "text/plain": [
       "<Figure size 432x288 with 2 Axes>"
      ]
     },
     "metadata": {
      "needs_background": "light"
     },
     "output_type": "display_data"
    }
   ],
   "source": [
    "#Confusion Matrix for the supervised model - Logistic regression\n",
    "cm = confusion_matrix(Y_real_unlabelled, y_test_unlabelled_pred, labels=clf_LR.classes_, normalize = 'true' )\n",
    "disp = ConfusionMatrixDisplay(confusion_matrix=cm, display_labels=clf_LR.classes_)\n",
    "disp.plot()"
   ]
  },
  {
   "cell_type": "markdown",
   "metadata": {},
   "source": [
    "ii) performance of semi-supervised model on unlabelled data"
   ]
  },
  {
   "cell_type": "code",
   "execution_count": 23,
   "metadata": {},
   "outputs": [
    {
     "name": "stdout",
     "output_type": "stream",
     "text": [
      "Performance of semi-supervised model (label propagation) on unlabelled data:\n",
      "\n",
      "Accuracy:    0.7634\n",
      "Precision:   0.5827\n",
      "Recall:      0.7634\n",
      "F-score:     0.6609\n"
     ]
    }
   ],
   "source": [
    "'''Performance Metrics - Label Propagation'''\n",
    "\n",
    "#with the propagated labels and with the true labels\n",
    "\n",
    "Acc_semiSupervised = round(metrics.accuracy_score(Y_real_unlabelled, Y_pred_unlabelled),4)\n",
    "\n",
    "#Weighted scores\n",
    "f1_semiSupervised = round(f1_score(Y_real_unlabelled, Y_pred_unlabelled,average=\"weighted\"),4)\n",
    "recall_semiSupervised = round(recall_score(Y_real_unlabelled,Y_pred_unlabelled,average=\"weighted\"),4)\n",
    "precision_semiSupervised = round(precision_score(Y_real_unlabelled,Y_pred_unlabelled,average=\"weighted\"),4)\n",
    "\n",
    "print(\"Performance of semi-supervised model (label propagation) on unlabelled data:\\n\")\n",
    "\n",
    "print(\"Accuracy:   \", Acc_semiSupervised)       \n",
    "print(\"Precision:  \", precision_semiSupervised)\n",
    "print(\"Recall:     \", recall_semiSupervised)\n",
    "print(\"F-score:    \", f1_semiSupervised)"
   ]
  },
  {
   "cell_type": "code",
   "execution_count": 24,
   "metadata": {},
   "outputs": [
    {
     "name": "stdout",
     "output_type": "stream",
     "text": [
      "Performance of semi-supervised model (label propagation) on unlabelled data (macro average):\n",
      "\n",
      "Accuracy:    0.7634\n",
      "Precision:   0.3817\n",
      "Recall:      0.5\n",
      "F-score:     0.4329\n"
     ]
    }
   ],
   "source": [
    "#calculate with macro scores\n",
    "Acc_semiSupervised_m = round(metrics.accuracy_score(Y_real_unlabelled, Y_pred_unlabelled),4)\n",
    "f1_semiSupervised_macro = round(f1_score(Y_real_unlabelled, Y_pred_unlabelled,average=\"macro\"),4)\n",
    "recall_semiSupervised_macro = round(recall_score(Y_real_unlabelled,Y_pred_unlabelled,average=\"macro\"),4)\n",
    "precision_semiSupervised_macro = round(precision_score(Y_real_unlabelled,Y_pred_unlabelled,average=\"macro\"),4)\n",
    "\n",
    "print(\"Performance of semi-supervised model (label propagation) on unlabelled data (macro average):\\n\")\n",
    "\n",
    "print(\"Accuracy:   \", Acc_semiSupervised_m)       \n",
    "print(\"Precision:  \", precision_semiSupervised_macro)\n",
    "print(\"Recall:     \", recall_semiSupervised_macro)\n",
    "print(\"F-score:    \", f1_semiSupervised_macro)"
   ]
  },
  {
   "cell_type": "markdown",
   "metadata": {},
   "source": [
    "iii) performance of semi-supervised model based on Logistic Regression on unlabelled data"
   ]
  },
  {
   "cell_type": "code",
   "execution_count": 25,
   "metadata": {},
   "outputs": [
    {
     "name": "stdout",
     "output_type": "stream",
     "text": [
      "Performance of self training classifier on unlabelled data\n",
      "\n",
      "Accuracy:   0.7634\n",
      "Precision:  0.5827\n",
      "Recall:     0.7634\n",
      "F-score:    0.6609\n"
     ]
    }
   ],
   "source": [
    "'''Predict the unlabelled data with the SelfTrainingClassifier  and evaluate''' \n",
    "\n",
    "#Predict\n",
    "Y_pred_self=self_training_model.predict(X_mixed_Self)        \n",
    "Y_pred_self=Y_pred_self[unlabelled_points]              #predict on all the unlabelled points               \n",
    "\n",
    "#calculate weighted scores\n",
    "Acc_semiSupervised_self = round(metrics.accuracy_score(Y_real_unlabelled, Y_pred_self),4)\n",
    "f1_semiSupervised_self = round(f1_score(Y_real_unlabelled, Y_pred_self,average=\"weighted\"),4)\n",
    "recall_semiSupervised_self = round(recall_score(Y_real_unlabelled,Y_pred_self,average=\"weighted\"),4)\n",
    "precision_semiSupervised_self = round(precision_score(Y_real_unlabelled,Y_pred_self,average=\"weighted\"),4)\n",
    "\n",
    "#Performance metrics\n",
    "print(\"Performance of self training classifier on unlabelled data\\n\")\n",
    "print(\"Accuracy:  \", Acc_semiSupervised_self)\n",
    "print(\"Precision: \", precision_semiSupervised_self)\n",
    "print(\"Recall:    \", recall_semiSupervised_self)\n",
    "print(\"F-score:   \", f1_semiSupervised_self)"
   ]
  },
  {
   "cell_type": "code",
   "execution_count": 26,
   "metadata": {},
   "outputs": [
    {
     "name": "stdout",
     "output_type": "stream",
     "text": [
      "Performance of self training classifier on unlabelled data (macro)\n",
      "\n",
      "Accuracy:   0.7634\n",
      "Precision:  0.3817\n",
      "Recall:     0.5\n",
      "F-score:    0.4329\n"
     ]
    }
   ],
   "source": [
    "Acc_semiSupervised_self_m = round(metrics.accuracy_score(Y_real_unlabelled, Y_pred_self),4)\n",
    "\n",
    "#calcualte macro average\n",
    "f1_semiSupervised_self_macro = round(f1_score(Y_real_unlabelled, Y_pred_self,average=\"macro\"),4)\n",
    "recall_semiSupervised_self_macro = round(recall_score(Y_real_unlabelled,Y_pred_self,average=\"macro\"),4)\n",
    "precision_semiSupervised_self_macro = round(precision_score(Y_real_unlabelled,Y_pred_self,average=\"macro\"),4)\n",
    "\n",
    "#Performance metrics\n",
    "print(\"Performance of self training classifier on unlabelled data (macro)\\n\")\n",
    "print(\"Accuracy:  \", Acc_semiSupervised_self_m)\n",
    "print(\"Precision: \", precision_semiSupervised_self_macro)\n",
    "print(\"Recall:    \", recall_semiSupervised_self_macro)\n",
    "print(\"F-score:   \", f1_semiSupervised_self_macro)"
   ]
  },
  {
   "cell_type": "markdown",
   "metadata": {},
   "source": [
    "PLOT THE PERFORMANCE SCORES OF ALL MODELS\n",
    "\n",
    "- SUPERVISED MODEL - LOGISITC REGRESSION (LR)\n",
    "- SEMI SUPERVISED MODEL - with Label Propagation\n",
    "- SELF TRAINED CLASSIFIER - with Logistic Regression (semi-supervised model based on the selected supervised model)"
   ]
  },
  {
   "cell_type": "code",
   "execution_count": 27,
   "metadata": {},
   "outputs": [
    {
     "data": {
      "image/png": "[encoded data removed]",
      "text/plain": [
       "<Figure size 864x504 with 1 Axes>"
      ]
     },
     "metadata": {
      "needs_background": "light"
     },
     "output_type": "display_data"
    }
   ],
   "source": [
    "# function to add value labels to the bars \n",
    "def autolabel(rects):\n",
    "    for rect in rects:\n",
    "        height = rect.get_height()\n",
    "        ax.annotate('{}'.format(height),\n",
    "         xy=(rect.get_x() + rect.get_width() / 2, height),\n",
    "         xytext=(0, 3), \n",
    "         textcoords=\"offset points\",\n",
    "         ha='center', va='bottom')\n",
    "\n",
    "#plot the three models for performance comparison\n",
    "\n",
    "name_models = ('Supervised (LR)','Semi Supervised','Self Trained (LR)')\n",
    "n_groups = 3\n",
    "gps = np.arange( n_groups)\n",
    "bar_width = 0.15\n",
    "\n",
    "#round the scores for labelling and plotting\n",
    "accuracy_values = [round(Acc_Supervised,2),round(Acc_semiSupervised,2),round(Acc_semiSupervised_self,2)]\n",
    "f1_values = [round(f1_Supervised,2),round(f1_semiSupervised,2),round(f1_semiSupervised_self,2)]\n",
    "precision_values = [round(precision_Supervised,2),round(precision_semiSupervised,2),round(precision_semiSupervised_self,2)]\n",
    "recall_values = [round(recall_Supervised,2),round(recall_semiSupervised,2),round(recall_semiSupervised_self,2)]\n",
    "\n",
    "fig, ax = plt.subplots(figsize=(12, 7))\n",
    "ax.set_facecolor('#EBEBEB')\n",
    "\n",
    "plt1 = plt.bar(gps, accuracy_values,  bar_width, alpha=0.5, color='darkred', label ='Accuracy')\n",
    "plt2 = plt.bar(gps + bar_width , f1_values,  bar_width, alpha=0.5, color='slategrey', label ='F1-Score')\n",
    "plt3 = plt.bar(gps + (2* bar_width), precision_values,  bar_width, alpha=0.5, color='orange', label ='Precision')\n",
    "plt4 = plt.bar(gps + (3* bar_width), recall_values, bar_width, alpha=0.5, color='royalblue',  label ='Recall')\n",
    "\n",
    "autolabel(plt1)\n",
    "autolabel(plt2)\n",
    "autolabel(plt3)\n",
    "autolabel(plt4)\n",
    "\n",
    "plt.xticks(gps  + bar_width, name_models)\n",
    "plt.ylabel('Score')\n",
    "plt.title('Performance measures')\n",
    "plt.grid(axis = 'y', linewidth=0.5)\n",
    "plt.legend(bbox_to_anchor= (1.15, 1))\n",
    "plt.show()"
   ]
  },
  {
   "cell_type": "code",
   "execution_count": null,
   "metadata": {},
   "outputs": [],
   "source": []
  }
 ],
 "metadata": {
  "kernelspec": {
   "display_name": "Python 3",
   "language": "python",
   "name": "python3"
  },
  "language_info": {
   "codemirror_mode": {
    "name": "ipython",
    "version": 3
   },
   "file_extension": ".py",
   "mimetype": "text/x-python",
   "name": "python",
   "nbconvert_exporter": "python",
   "pygments_lexer": "ipython3",
   "version": "3.8.5"
  }
 },
 "nbformat": 4,
 "nbformat_minor": 4
}
